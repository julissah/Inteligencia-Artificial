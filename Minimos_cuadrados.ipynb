{
  "nbformat": 4,
  "nbformat_minor": 0,
  "metadata": {
    "colab": {
      "name": "Minimos_cuadrados.ipynb",
      "provenance": [],
      "collapsed_sections": [],
      "authorship_tag": "ABX9TyNLS71K1z3Vd88gPP5RhRnK",
      "include_colab_link": true
    },
    "kernelspec": {
      "name": "python3",
      "display_name": "Python 3"
    },
    "language_info": {
      "name": "python"
    }
  },
  "cells": [
    {
      "cell_type": "markdown",
      "metadata": {
        "id": "view-in-github",
        "colab_type": "text"
      },
      "source": [
        "<a href=\"https://colab.research.google.com/github/julissah/Inteligencia-Artificial/blob/main/Minimos_cuadrados.ipynb\" target=\"_parent\"><img src=\"https://colab.research.google.com/assets/colab-badge.svg\" alt=\"Open In Colab\"/></a>"
      ]
    },
    {
      "cell_type": "code",
      "metadata": {
        "colab": {
          "base_uri": "https://localhost:8080/",
          "height": 35
        },
        "id": "-bWXUJvc2ESz",
        "outputId": "a2c73615-bbf0-4882-cb5b-1b48464f3359"
      },
      "source": [
        "import pandas as pd\n",
        "import numpy as np\n",
        "import matplotlib.pyplot as plt \n",
        "pd.__version__"
      ],
      "execution_count": null,
      "outputs": [
        {
          "output_type": "execute_result",
          "data": {
            "application/vnd.google.colaboratory.intrinsic+json": {
              "type": "string"
            },
            "text/plain": [
              "'1.1.5'"
            ]
          },
          "metadata": {},
          "execution_count": 1
        }
      ]
    },
    {
      "cell_type": "code",
      "metadata": {
        "colab": {
          "base_uri": "https://localhost:8080/"
        },
        "id": "9zGAWgPC29n6",
        "outputId": "539e5eed-c206-431e-c24d-a203bf81d4a3"
      },
      "source": [
        "from google.colab import drive\n",
        "drive.mount('/content/drive')"
      ],
      "execution_count": null,
      "outputs": [
        {
          "output_type": "stream",
          "name": "stdout",
          "text": [
            "Mounted at /content/drive\n"
          ]
        }
      ]
    },
    {
      "cell_type": "code",
      "metadata": {
        "id": "JuMZmWEE4l-2",
        "colab": {
          "base_uri": "https://localhost:8080/"
        },
        "outputId": "41f88caf-ab4a-4d54-f83f-417814b90d7a"
      },
      "source": [
        "!mkdir /content/drive/My\\ Drive/Colab\\ Notebooks/db"
      ],
      "execution_count": null,
      "outputs": [
        {
          "output_type": "stream",
          "name": "stdout",
          "text": [
            "mkdir: cannot create directory ‘/content/drive/My Drive/Colab Notebooks/db’: File exists\n"
          ]
        }
      ]
    },
    {
      "cell_type": "code",
      "metadata": {
        "colab": {
          "base_uri": "https://localhost:8080/",
          "height": 35
        },
        "id": "QdzmM9nT4-e-",
        "outputId": "10f89a6b-2673-49be-d920-39a0dc3c1168"
      },
      "source": [
        "dir_pandas = '/content/drive/My Drive/Colab Notebooks/db/{}'.format('test.txt')\n",
        "dir_pandas"
      ],
      "execution_count": null,
      "outputs": [
        {
          "output_type": "execute_result",
          "data": {
            "application/vnd.google.colaboratory.intrinsic+json": {
              "type": "string"
            },
            "text/plain": [
              "'/content/drive/My Drive/Colab Notebooks/db/test.txt'"
            ]
          },
          "metadata": {},
          "execution_count": 5
        }
      ]
    },
    {
      "cell_type": "code",
      "metadata": {
        "id": "4h7gnWiFCmAm"
      },
      "source": [
        "def estimate_b0_b1(x, y):\n",
        "    n = np.size(x) \n",
        "    sumx = np.sum(x) \n",
        "    sumy = np.sum(y)\n",
        "    sumxy = np.sum(x*y)\n",
        "    sumx2 = np.sum(x**2)\n",
        "\n",
        "    #obtenemos los promedios de X y de Y\n",
        "    m_x, m_y = np.mean(x), np.mean(y)\n",
        "\n",
        "    #Calcular sumatoria de XY y mi sumatoria de XX\n",
        "    Sumatoria_xy = np.sum((x-m_x)*(y-m_y))\n",
        "    Sumatoria_xx = np.sum(x*(x-m_x))\n",
        "\n",
        "    #coeficientes de regresion\n",
        "    w_1 = Sumatoria_xy / Sumatoria_xx\n",
        "    w_0 = m_y - w_1*m_x\n",
        "\n",
        "    return(w_0, w_1, sumx, sumy, sumxy, sumx2)"
      ],
      "execution_count": null,
      "outputs": []
    },
    {
      "cell_type": "code",
      "metadata": {
        "id": "c89Bzn5oCsf4"
      },
      "source": [
        "#Funcion de graficado \n",
        "def plot_regression(x, y, b):\n",
        "    plt.scatter(x, y, color = \"c\", marker = \"o\", s=30)\n",
        "\n",
        "    y_pred = b[0] + b[1]*x\n",
        "    plt.plot(x, y_pred, color = \"m\")\n",
        "\n",
        "    #etiquetado\n",
        "    plt.xlabel('x-Independiente')\n",
        "    plt.ylabel('y-Dependiente')\n",
        "\n",
        "    plt.show()"
      ],
      "execution_count": null,
      "outputs": []
    },
    {
      "cell_type": "code",
      "metadata": {
        "colab": {
          "base_uri": "https://localhost:8080/",
          "height": 470
        },
        "id": "jsXmFeesC7bP",
        "outputId": "c18f31b4-b5a6-458e-d739-540fabb39d1d"
      },
      "source": [
        "def main():\n",
        "\n",
        "    name = \"Julissa Huaman Hilari\"\n",
        "    method = \"Mínimos cuadrados\"\n",
        "\n",
        "    #DATASET\n",
        "    x = np.array([0.4032461157176269,-1.2272883325838004,-0.33696124168562375,0.333453625831494,-0.041826934724174133,-0.8367183159233779])\n",
        "    y = np.array([2.742942656467015,-108.60846579177763,-44.46226372068095,16.693684578505046,-3.6990733080219815,-56.26584887071658])\n",
        "\n",
        "    w = estimate_b0_b1(x, y)\n",
        "\n",
        "    #txt\n",
        "    dict_values = {\n",
        "        'x': x,\n",
        "        'y': y,\n",
        "    }\n",
        "        \n",
        "    dict_data = {\n",
        "        'Estudiante:': name,\n",
        "        'Método:': method,\n",
        "        ' ':' ',\n",
        "        'Datos utilizados :': '\\n{}\\n'.format(pd.DataFrame(dict_values)),\n",
        "        'Suma de valores de x:': '{0:.6f}'.format(w[2]),\n",
        "        'Suma de valores de y:': '{0:.6f}'.format(w[3]),\n",
        "        'Suma de valores de x*y:': '{0:.6f}'.format(w[4]),\n",
        "        'Suma de valores de x2:': '{0:.6f}'.format(w[5]),\n",
        "        'Pendiente:': '{0:.6f}'.format(w[1]),\n",
        "        'Intercepto:': '{0:.6f}'.format(w[0]),\n",
        "    }\n",
        "\n",
        "    df = pd.Series(dict_data)\n",
        "\n",
        "    print(pd.Series(dict_data))\n",
        "\n",
        "    #Graficamos nuestra linea de regresion\n",
        "    plot_regression(x, y, w)\n",
        "\n",
        "    dir_pandas = '/content/drive/My Drive/Colab Notebooks/db/{}'.format('minimosCuadrados4.txt')\n",
        "    dir_pandas\n",
        "\n",
        "    df.to_csv(\"Mínimos cuadrados.txt\", sep = \"\\t\")\n",
        "\n",
        "if __name__== \"__main__\":\n",
        "    main()"
      ],
      "execution_count": null,
      "outputs": [
        {
          "output_type": "stream",
          "name": "stdout",
          "text": [
            "Estudiante:                                            Julissa Huaman Hilari\n",
            "Método:                                                    Mínimos cuadrados\n",
            "                                                                            \n",
            "Datos utilizados :         \\n          x           y\\n0  0.403246    2.74...\n",
            "Suma de valores de x:                                              -1.706095\n",
            "Suma de valores de y:                                            -193.599024\n",
            "Suma de valores de x*y:                                           202.182000\n",
            "Suma de valores de x2:                                              2.595425\n",
            "Pendiente:                                                         69.721071\n",
            "Intercepto:                                                       -12.441375\n",
            "dtype: object\n"
          ]
        },
        {
          "output_type": "display_data",
          "data": {
            "image/png": "[encoded data removed]",
            "text/plain": [
              "<Figure size 432x288 with 1 Axes>"
            ]
          },
          "metadata": {
            "needs_background": "light"
          }
        }
      ]
    }
  ]
}