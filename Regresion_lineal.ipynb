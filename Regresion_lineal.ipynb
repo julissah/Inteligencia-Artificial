{
  "nbformat": 4,
  "nbformat_minor": 0,
  "metadata": {
    "colab": {
      "name": "Regresion_lineal.ipynb",
      "provenance": [],
      "collapsed_sections": [],
      "authorship_tag": "ABX9TyM+qW29n24JvoJT25SYoKiS",
      "include_colab_link": true
    },
    "kernelspec": {
      "display_name": "Python 3",
      "name": "python3"
    },
    "language_info": {
      "name": "python"
    }
  },
  "cells": [
    {
      "cell_type": "markdown",
      "metadata": {
        "id": "view-in-github",
        "colab_type": "text"
      },
      "source": [
        "<a href=\"https://colab.research.google.com/github/julissah/Inteligencia-Artificial/blob/main/Regresion_lineal.ipynb\" target=\"_parent\"><img src=\"https://colab.research.google.com/assets/colab-badge.svg\" alt=\"Open In Colab\"/></a>"
      ]
    },
    {
      "cell_type": "code",
      "metadata": {
        "id": "ehoePELeOwg-"
      },
      "source": [
        "import numpy as np\n",
        "import matplotlib.pyplot as plt"
      ],
      "execution_count": null,
      "outputs": []
    },
    {
      "cell_type": "code",
      "metadata": {
        "colab": {
          "background_save": true
        },
        "id": "1EGyQJ84PGLR"
      },
      "source": [
        "def estimate_b0_b1(x, y):\n",
        "    n = np.size(x)\n",
        "    #obtenemos los promedios de X y de Y\n",
        "    m_x, m_y = np.mean(x), np.mean(y)\n",
        "\n",
        "    #Calcular sumatoria de XY y mi sumatoria de XX\n",
        "    Sumatoria_xy = np.sum((x-m_x)*(y-m_y))\n",
        "    Sumatoria_xx = np.sum(x*(x-m_x))\n",
        "\n",
        "    #coeficientes de regresion\n",
        "    b_1 = Sumatoria_xy / Sumatoria_xx\n",
        "    b_0 = m_y - b_1*m_x\n",
        "\n",
        "    return(b_0, b_1)"
      ],
      "execution_count": null,
      "outputs": []
    },
    {
      "cell_type": "code",
      "metadata": {
        "id": "kHpWSq8UP5nB"
      },
      "source": [
        "#Funcion de graficado \n",
        "def plot_regression(x, y, b):\n",
        "    plt.scatter(x, y, color = \"g\", marker = \"o\", s=30)\n",
        "\n",
        "    y_pred = 0 + 0.64*x\n",
        "    plt.plot(x, y_pred, color = \"r\")\n",
        "\n",
        "    #etiquetado\n",
        "    plt.xlabel('x-Independiente')\n",
        "    plt.ylabel('y-Dependiente')\n",
        "\n",
        "    plt.show()"
      ],
      "execution_count": null,
      "outputs": []
    },
    {
      "cell_type": "code",
      "metadata": {
        "colab": {
          "base_uri": "https://localhost:8080/",
          "height": 297
        },
        "id": "kBh2MCYpP_W5",
        "outputId": "e4ae7950-3d6f-4516-a386-6547140cd17c"
      },
      "source": [
        "def main():\n",
        "    #DATASET\n",
        "    x = np.array([0.6,0.9,1.2,2.1,2.5,4.3,4.6,5.2])\n",
        "    y = np.array([0.8,0.8,1.6,1.6,2.7,3.3,3.2, 2.8])\n",
        "\n",
        "    #Obtenemos b1 y b2\n",
        "    b = estimate_b0_b1(x, y)\n",
        "    print(\"Los valores b0 = {}, b1 ={}\".format(b[0], b[1]))\n",
        "\n",
        "    #Graficamos nuestra linea de regresion\n",
        "    plot_regression(x, y, b)\n",
        "\n",
        "if __name__== \"__main__\":\n",
        "    main()\n"
      ],
      "execution_count": null,
      "outputs": [
        {
          "output_type": "stream",
          "name": "stdout",
          "text": [
            "Los valores b0 = 0.7151001540832049, b1 =0.5177195685670262\n"
          ]
        },
        {
          "output_type": "display_data",
          "data": {
            "image/png": "[encoded data removed]",
            "text/plain": [
              "<Figure size 432x288 with 1 Axes>"
            ]
          },
          "metadata": {
            "needs_background": "light"
          }
        }
      ]
    }
  ]
}