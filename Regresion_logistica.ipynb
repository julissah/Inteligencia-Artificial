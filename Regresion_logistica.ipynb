{
  "nbformat": 4,
  "nbformat_minor": 0,
  "metadata": {
    "colab": {
      "name": "Regresion_logistica.ipynb",
      "provenance": [],
      "collapsed_sections": [],
      "authorship_tag": "ABX9TyNfBkhWHyQjfIijHxq7q1gX",
      "include_colab_link": true
    },
    "kernelspec": {
      "name": "python3",
      "display_name": "Python 3"
    },
    "language_info": {
      "name": "python"
    }
  },
  "cells": [
    {
      "cell_type": "markdown",
      "metadata": {
        "id": "view-in-github",
        "colab_type": "text"
      },
      "source": [
        "<a href=\"https://colab.research.google.com/github/julissah/Inteligencia-Artificial/blob/main/Regresion_logistica.ipynb\" target=\"_parent\"><img src=\"https://colab.research.google.com/assets/colab-badge.svg\" alt=\"Open In Colab\"/></a>"
      ]
    },
    {
      "cell_type": "code",
      "metadata": {
        "id": "fjQvrsh4jIJe"
      },
      "source": [
        "import matplotlib.pyplot as pl\n",
        "import numpy as np\n",
        "import math\n",
        "import pandas as pd"
      ],
      "execution_count": null,
      "outputs": []
    },
    {
      "cell_type": "code",
      "metadata": {
        "id": "TrNrhP-KkTuY",
        "colab": {
          "base_uri": "https://localhost:8080/",
          "height": 283
        },
        "outputId": "47937e59-a19b-4186-a875-76cf612f7d28"
      },
      "source": [
        "def gen_data():\n",
        "\n",
        "  # train\n",
        "  x = np.array([5,7,13,9,4,6,3,10,4,10,8,20,18,15,20,12,6,13,14,10,21,25])\n",
        "  y = np.array([0,0,1,1,0,0,0,1,0,1,0,1,0,1,1,1,0,1,1,1,1,1])\n",
        "\n",
        "  # test  \n",
        "  x_test = np.array([2,15,4,1,12,6])\n",
        "  y_test = np.array([0,1,0,0,1,0])\n",
        "  return x, y, x_test, y_test\n",
        "x,y, x_test, y_test = gen_data()\n",
        "pl.scatter(x,y)\n",
        "pl.scatter(x_test,y_test)\n"
      ],
      "execution_count": 138,
      "outputs": [
        {
          "output_type": "execute_result",
          "data": {
            "text/plain": [
              "<matplotlib.collections.PathCollection at 0x7f8364a7ee10>"
            ]
          },
          "metadata": {},
          "execution_count": 138
        },
        {
          "output_type": "display_data",
          "data": {
            "image/png": "[encoded data removed]",
            "text/plain": [
              "<Figure size 432x288 with 1 Axes>"
            ]
          },
          "metadata": {
            "needs_background": "light"
          }
        }
      ]
    },
    {
      "cell_type": "code",
      "metadata": {
        "id": "3zdyGeIg_RS9"
      },
      "source": [
        "def reg_logistica(x, y, m, b, alpha, iters, umbral):\n",
        "\n",
        "    data = len(x)\n",
        "    for n in range(iters):\n",
        "      txt.write('ITERACIÓN: {}'.format(n+1)+'\\n')\n",
        "      txt.write('Pendiente anterior: {0:.6f}'.format(m)+'\\n')\n",
        "      txt.write('Intercepto anterior: {0:.6f}'.format(b)+'\\n')\n",
        "      sum_err = 0\n",
        "      sum_pendiente = 0\n",
        "      sum_intercepto = 0\n",
        "      for i in range(data):\n",
        "        _x = x[i]\n",
        "        _y = y[i]\n",
        "        v_est = 1/(1 + math.exp((-(m*_x+b))))\n",
        "        sum_err += -(_y*math.log(v_est)+(1-_y)*math.log(1-v_est))\n",
        "        sum_pendiente += (v_est-_y)*_x\n",
        "        sum_intercepto += v_est-_y\n",
        "      m = m - alpha * sum_pendiente\n",
        "      b = b - alpha * sum_intercepto\n",
        "      txt.write('Error: {0:.6f}'.format(sum_err)+'\\n')\n",
        "      txt.write('Tasa de aprendizaje: {}'.format(alpha)+'\\n')\n",
        "      txt.write('Derivada pendiente: {0:.6f}'.format(sum_pendiente)+'\\n')\n",
        "      txt.write('Derivada intercepto: {0:.6f}'.format(sum_intercepto)+'\\n')\n",
        "      txt.write('Pendiente nueva: {0:.6f}'.format(m)+'\\n')\n",
        "      txt.write('Intercepto nuevo: {0:.6f}'.format(b)+'\\n\\n')\n",
        "    test(m,b)\n",
        "    chart(m,b)"
      ],
      "execution_count": 186,
      "outputs": []
    },
    {
      "cell_type": "code",
      "metadata": {
        "id": "63S5cKLiun39"
      },
      "source": [
        "def test(m,b):\n",
        "  txt.write('TEST: \\n')\n",
        "  data_test = len(x_test)\n",
        "  p_a = 0\n",
        "  for t in range(data_test):\n",
        "    _x_test = x_test[t]\n",
        "    _y_test = y_test[t]\n",
        "    v_est_test = 1/(1 + math.exp((-(m*_x_test+b))))\n",
        "    if round(v_est_test) == _y_test :\n",
        "      result = 'Correcto'\n",
        "      p_a += 1\n",
        "    else:\n",
        "      result = 'Incorrecto'\n",
        "    txt.write('Dato {}'.format(t+1)+': {}'.format(_x_test)+' = {0:.6f}'.format(v_est_test)+', Aprobado estimado {}'.format(_y_test)+', '+result +'\\n')\n",
        "  txt.write('Porcentaje de Acierto {0:.2f}'.format(100/(data_test/p_a))+'%')"
      ],
      "execution_count": 177,
      "outputs": []
    },
    {
      "cell_type": "code",
      "metadata": {
        "id": "DgSbjTla66MF"
      },
      "source": [
        "def chart(m,b):\n",
        "  s_X = np.arange(1, 25, 0.5)\n",
        "  s_Y=1/(1+np.e**-(m*s_X+b))\n",
        "  pl.plot(s_X,s_Y)\n",
        "  pl.scatter(x, y)\n",
        "  pl.scatter(x_test,y_test)\n",
        "  pl.title('100000 Iteraciones')\n",
        "  pl.plot([0,25], [0.5, 0.5],\"m\")"
      ],
      "execution_count": 191,
      "outputs": []
    },
    {
      "cell_type": "code",
      "metadata": {
        "id": "tBta6aOM_GPh",
        "colab": {
          "base_uri": "https://localhost:8080/",
          "height": 281
        },
        "outputId": "61c98336-7590-4a65-96fd-861777e1c81e"
      },
      "source": [
        "m = -0.9874\n",
        "b = -2.1789\n",
        "alpha = 0.001\n",
        "iters = 100000\n",
        "umbral = 0.5\n",
        "\n",
        "txt = open ('RegresionLogistica.txt','w')\n",
        "txt.write('Alumna: Julissa Huaman Hilari\\n')\n",
        "txt.write('Método: Regresion Logística\\n\\n')\n",
        "txt.write('Pendiente anterior: {}'.format(m)+'\\n')\n",
        "txt.write('Intercepto anterior: {}'.format(b)+'\\n')\n",
        "txt.write('Tasa de aprendizaje: {}'.format(alpha)+'\\n')\n",
        "txt.write('Cantidad de iteraciones: {}'.format(iters)+'\\n')\n",
        "txt.write('Umbral: {}'.format(umbral)+'\\n')\n",
        "txt.write('Datos de Entrenamiento: '+'\\n'+' x = {}'.format(x)+'\\n'+' y = {}'.format(y)+'\\n')\n",
        "txt.write('Datos de Test: '+'\\n'+' x = {}'.format(x_test)+'\\n'+' y = {}'.format(y_test)+'\\n\\n')\n",
        "reg_logistica(x, y, m, b, alpha, iters, umbral)"
      ],
      "execution_count": 192,
      "outputs": [
        {
          "output_type": "display_data",
          "data": {
            "image/png": "[encoded data removed]",
            "text/plain": [
              "<Figure size 432x288 with 1 Axes>"
            ]
          },
          "metadata": {
            "needs_background": "light"
          }
        }
      ]
    }
  ]
}