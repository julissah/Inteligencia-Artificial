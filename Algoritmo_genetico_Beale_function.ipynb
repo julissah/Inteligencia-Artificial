{
  "nbformat": 4,
  "nbformat_minor": 0,
  "metadata": {
    "colab": {
      "name": "Algoritmo_genetico_Beale_function.ipynb",
      "provenance": [],
      "authorship_tag": "ABX9TyMLXjPpcEXaMAM5MMOhSzJ4",
      "include_colab_link": true
    },
    "kernelspec": {
      "name": "python3",
      "display_name": "Python 3"
    },
    "language_info": {
      "name": "python"
    }
  },
  "cells": [
    {
      "cell_type": "markdown",
      "metadata": {
        "id": "view-in-github",
        "colab_type": "text"
      },
      "source": [
        "<a href=\"https://colab.research.google.com/github/julissah/Inteligencia-Artificial/blob/main/Algoritmo_genetico_Beale_function.ipynb\" target=\"_parent\"><img src=\"https://colab.research.google.com/assets/colab-badge.svg\" alt=\"Open In Colab\"/></a>"
      ]
    },
    {
      "cell_type": "code",
      "metadata": {
        "id": "CD3T-RPngZ6m"
      },
      "source": [
        "import random\n",
        "import numpy as np\n",
        "import collections"
      ],
      "execution_count": null,
      "outputs": []
    },
    {
      "cell_type": "code",
      "metadata": {
        "id": "v8T2tm2IolHd"
      },
      "source": [
        "def matrizMP():\n",
        "  arrayMP = []\n",
        "  a1 = random.sample(range(p), p)\n",
        "  b1 = random.sample(range(p), p)\n",
        "  for i in range(p):\n",
        "    arrayMP.append([a1[i],b1[i]])\n",
        "  return arrayMP"
      ],
      "execution_count": null,
      "outputs": []
    },
    {
      "cell_type": "code",
      "metadata": {
        "id": "QtkAHDCKooms"
      },
      "source": [
        "def cruzamiento():\n",
        "  arrayOK = []\n",
        "  for i in range(p):\n",
        "    if random.randrange(2) == 1:\n",
        "      arrayOK.append(1)\n",
        "    else:\n",
        "      arrayOK.append(0)\n",
        "  return arrayOK  "
      ],
      "execution_count": null,
      "outputs": []
    },
    {
      "cell_type": "code",
      "metadata": {
        "id": "yD6vT7u1otA5"
      },
      "source": [
        "def mutacionA():\n",
        "  mutacion = [0 for columna in range(0,p)]\n",
        "  m = random.randrange(p)\n",
        "  mutacion[m] = 1\n",
        "  return mutacion"
      ],
      "execution_count": null,
      "outputs": []
    },
    {
      "cell_type": "code",
      "metadata": {
        "id": "-BfSyif0ovd6"
      },
      "source": [
        "def matrizPCM():\n",
        "  arrayPCM = []\n",
        "  a1 = random.sample(range(p), p)\n",
        "  b1 = random.sample(range(p), p)\n",
        "  arrayC = cruzamiento()\n",
        "  countC = collections.Counter(arrayC)[1]\n",
        "  while countC != 13:\n",
        "    arrayC = cruzamiento()\n",
        "    countC = collections.Counter(arrayC)[1]\n",
        "  c1 = arrayC\n",
        "  d1 = mutacionA()\n",
        "  for i in range(p):\n",
        "    arrayPCM.append([a1[i],b1[i],c1[i],d1[i]])\n",
        "  return arrayPCM"
      ],
      "execution_count": null,
      "outputs": []
    },
    {
      "cell_type": "code",
      "metadata": {
        "id": "hgiONPGMm3Wy"
      },
      "source": [
        "# Calcular aptitud para cada individuo\n",
        "def fitness(iter):\n",
        "  # Datos aleatorios\n",
        "  alt = []\n",
        "  for v in range(p):    \n",
        "    x = round(random.uniform(-4.5, 4.5),5)\n",
        "    y = round(random.uniform(-4.5, 4.5),5)\n",
        "    alt.append([x,y])\n",
        "\n",
        "  # Poblacion inicial\n",
        "  arrayP = []\n",
        "  txt.write('Poblacion inicial\\n')\n",
        "  for n in range(p):\n",
        "    arrayP.append(alt[n])\n",
        "    txt.write(str(n+1)+')'+'\\t'+str(alt[n])+'\\n')\n",
        "  txt.write('\\n')\n",
        "\n",
        "  # Aptitud\n",
        "  arrayFit = []\n",
        "  txt.write('Calcular aptitud para cada individuo\\n')\n",
        "  for f in range(p):\n",
        "    x1 = arrayP[f][0]\n",
        "    y1 = arrayP[f][1]\n",
        "    arrayFit.append((1.5 - x1 + x1 * y1) * 2 + (2.25 - x1 + x1 * y1 * 2) * 2 + (2.625 - x1 + x1 * y1 * 3) ** 2)\n",
        "    txt.write(str(f+1)+')'+'\\t'+str(arrayP[f])+'\\t'+str(arrayFit[f])+'\\n')\n",
        "  txt.write('\\n')\n",
        "\n",
        "  for b in range(1, iter+1):\n",
        "    mating = []\n",
        "    arrayCM = []\n",
        "    arrayNP = []\n",
        "    # Creación de mating Pool\n",
        "    txt.write('----------- Iteración '+str(b)+' -----------\\n')\n",
        "    txt.write('Creación de Mating Pool\\n')\n",
        "    # a = rd.randint(0,p,(p,2))\n",
        "    MP = matrizMP()\n",
        "    for m in range(p):\n",
        "      rx = MP[m][0]\n",
        "      ry = MP[m][1]\n",
        "      vrx = rx+1\n",
        "      vry = ry+1\n",
        "      if arrayFit[rx] < arrayFit[ry]:\n",
        "        mating.append([vrx,arrayP[rx]])\n",
        "        txt.write(str(vrx)+'\\t-\\t'+str(vry)+'\\t=>\\t'+str(vrx)+'\\t=>\\t'+str(arrayP[rx])+'\\n')\n",
        "      else:\n",
        "        mating.append([vry,arrayP[ry]]) \n",
        "        txt.write(str(vrx)+ '\\t-\\t'+str(vry)+'\\t=>\\t'+str(vry)+'\\t=>\\t'+str(arrayP[ry])+'\\n')\n",
        "    txt.write('\\n')\n",
        "    # Seleccion de padres\n",
        "    PCM = matrizPCM()\n",
        "    # b = rd.randint(0,p,(p,2))\n",
        "    for r in range(p):\n",
        "      px = PCM[r][0]\n",
        "      py = PCM[r][1]\n",
        "      rc = PCM[r][2]\n",
        "      rm = PCM[r][3]\n",
        "      vpx = px+1\n",
        "      vpy = py+1\n",
        "      arrayCM.append([mating[px][1],mating[py][1]])\n",
        "      txt.write('Selección de padres\\n')\n",
        "      txt.write(str(vpx)+' - '+str(vpy)+' => '+str(mating[px][0])+' - '+str(mating[py][0])+' => '+str(mating[px][1])+' - '+str(mating[py][1])+'\\n')\n",
        "      if rc == 1:\n",
        "        txt.write('Cruzamiento:\\n')\n",
        "        # txt.write(str(mating[px][1])+'\\n')\n",
        "        px1 = mating[px][1][0]\n",
        "        py1 = mating[px][1][1]\n",
        "        # txt.write(str(mating[py][1])+'\\n')\n",
        "        px2 = mating[py][1][0]\n",
        "        py2 = mating[py][1][1]\n",
        "        bx = random.uniform(-0.5,1.5)\n",
        "        blx = px1 + bx * (px2 - px1)\n",
        "        by = random.uniform(-0.5,1.5)\n",
        "        bly = py1 + by * (py2 - py1)\n",
        "        txt.write('Beta: '+str(round(bx,5))+'\\n')\n",
        "        txt.write('Beta: '+str(round(by,5))+'\\n')\n",
        "        txt.write('['+str(round(blx,5))+' , '+str(round(bly,5))+']'+'\\n')\n",
        "        if rm == 1:\n",
        "          txt.write('Mutación:\\n')\n",
        "          mut = random.uniform(0,0.1)\n",
        "          arrayNP.append([round(blx,5),round(mut,5)])\n",
        "          txt.write('['+str(round(blx,5))+' , '+str(round(mut,5))+']'+'\\n\\n')\n",
        "        else:\n",
        "          arrayNP.append([round(blx,5),round(bly,5)])\n",
        "          txt.write('Sin mutación \\n\\n')\n",
        "      else:\n",
        "        txt.write('Sin cruzamiento \\n')\n",
        "        if arrayFit[mating[px][0]-1] < arrayFit[mating[py][0]-1]:\n",
        "          txt.write(str(mating[px][1])+'\\n')\n",
        "        else:\n",
        "          txt.write(str(mating[py][1])+'\\n')\n",
        "        if rm == 1:\n",
        "          txt.write('Mutación:\\n')\n",
        "          mut = random.uniform(0,0.1)\n",
        "          if arrayFit[mating[px][0]-1] < arrayFit[mating[py][0]-1]:\n",
        "            arrayNP.append([mating[px][1][0],round(mut,5)])\n",
        "            txt.write('['+str(mating[px][1][0])+' , '+str(round(mut,5))+']'+'\\n\\n')\n",
        "          else:\n",
        "            arrayNP.append([mating[py][1][0],round(mut,5)])\n",
        "            txt.write('['+str(mating[py][1][0])+' , '+str(round(mut,5))+']'+'\\n\\n')\n",
        "        else:\n",
        "          txt.write('Sin mutación \\n\\n')\n",
        "          if arrayFit[mating[px][0]-1] < arrayFit[mating[py][0]-1]:\n",
        "            arrayNP.append(mating[px][1])        \n",
        "          else:\n",
        "            arrayNP.append(mating[py][1])\n",
        "    arrayP = arrayNP\n",
        "\n",
        "    # Nueva Poblacion\n",
        "    txt.write('Nueva Población \\n')\n",
        "    for w in range(p):\n",
        "      txt.write(str(w+1)+')'+'\\t'+str(arrayP[w])+'\\n')\n",
        "    txt.write('\\n')\n",
        "\n",
        "    # Fitness\n",
        "    txt.write('Calcular Fitness \\n')\n",
        "    arrayFit = []\n",
        "    for g in range(p):\n",
        "      x1 = arrayP[g][0]\n",
        "      y1 = arrayP[g][1]\n",
        "      arrayFit.append((1.5 - x1 + x1 * y1) * 2 + (2.25 - x1 + x1 * y1 * 2) * 2 + (2.625 - x1 + x1 * y1 * 3) ** 2)\n",
        "      txt.write(str(g+1)+')'+'\\t'+str(arrayP[g])+'\\t'+str(arrayFit[g])+'\\n')\n",
        "    txt.write('\\n')"
      ],
      "execution_count": null,
      "outputs": []
    },
    {
      "cell_type": "code",
      "metadata": {
        "id": "wMoiSTbag2lk"
      },
      "source": [
        "p = 20\n",
        "pcruz = 0.7\n",
        "alpha = 0.5\n",
        "pmut = 0.05\n",
        "iter = 5000\n",
        "txt = open ('Algoritmo_genetico_Beale_function.txt','w')\n",
        "txt.write('Tema: Algoritmo Genético - Función Beale\\n\\n')\n",
        "txt.write('Parámetros:\\n')\n",
        "txt.write('Cantidad de Individuos: '+str(p)+'\\n')\n",
        "txt.write('Cantidad de Genes por Individuo: 2'+'\\n')\n",
        "txt.write('Selección por torneo (2)'+'\\n')\n",
        "txt.write('Probabilidad de Cruzamiento: '+str(pcruz)+'\\n')\n",
        "txt.write('Cruzamiento BLX-Alpha, Alpha = '+str(alpha)+'\\n')\n",
        "txt.write('Probabilidad de Mutación: '+str(pmut)+'\\n')\n",
        "txt.write('Mutación Uniforme'+'\\n')\n",
        "txt.write('Cantidad de Iteraciones: '+str(iter)+'\\n\\n')\n",
        "\n",
        "fitness(iter)\n"
      ],
      "execution_count": null,
      "outputs": []
    }
  ]
}