{
  "nbformat": 4,
  "nbformat_minor": 0,
  "metadata": {
    "colab": {
      "name": "Gradiente_descendiente.ipynb",
      "provenance": [],
      "collapsed_sections": [],
      "authorship_tag": "ABX9TyMVSraRxC4OmHwa6ewvHvOc",
      "include_colab_link": true
    },
    "kernelspec": {
      "name": "python3",
      "display_name": "Python 3"
    },
    "language_info": {
      "name": "python"
    }
  },
  "cells": [
    {
      "cell_type": "markdown",
      "metadata": {
        "id": "view-in-github",
        "colab_type": "text"
      },
      "source": [
        "<a href=\"https://colab.research.google.com/github/julissah/Inteligencia-Artificial/blob/main/Gradiente_descendiente.ipynb\" target=\"_parent\"><img src=\"https://colab.research.google.com/assets/colab-badge.svg\" alt=\"Open In Colab\"/></a>"
      ]
    },
    {
      "cell_type": "code",
      "metadata": {
        "id": "h4yywsQoGMez"
      },
      "source": [
        "import pandas as pd\n",
        "import random\n",
        "import matplotlib.pyplot as plt\n",
        "import numpy as np"
      ],
      "execution_count": null,
      "outputs": []
    },
    {
      "cell_type": "code",
      "metadata": {
        "id": "na_X9f8P6nzG",
        "colab": {
          "base_uri": "https://localhost:8080/",
          "height": 283
        },
        "outputId": "c6ebb9cc-0b24-4b47-bbe8-1df27c1aacdc"
      },
      "source": [
        "def gen_data():\n",
        "    x = np.array([0.4032461157176269,-1.2272883325838004,-0.33696124168562375,0.333453625831494,-0.041826934724174133,-0.8367183159233779])\n",
        "    y = np.array([2.742942656467015,-108.60846579177763,-44.46226372068095,16.693684578505046,-3.6990733080219815,-56.26584887071658])\n",
        "    # x = np.array([0.5,2.3, 2.9])\n",
        "    # y = np.array([1.4, 1.9, 3.2])\n",
        "\n",
        "    return x, y\n",
        "x,y = gen_data()\n",
        "plt.scatter(x, y)"
      ],
      "execution_count": null,
      "outputs": [
        {
          "output_type": "execute_result",
          "data": {
            "text/plain": [
              "<matplotlib.collections.PathCollection at 0x7f770f1ac510>"
            ]
          },
          "metadata": {},
          "execution_count": 127
        },
        {
          "output_type": "display_data",
          "data": {
            "image/png": "[encoded data removed]",
            "text/plain": [
              "<Figure size 432x288 with 1 Axes>"
            ]
          },
          "metadata": {
            "needs_background": "light"
          }
        }
      ]
    },
    {
      "cell_type": "code",
      "metadata": {
        "id": "e_VLKw_-IcqE"
      },
      "source": [
        "\n",
        "def coste(x, y, a, b):\n",
        "    m = len(x)\n",
        "    error = 0.0\n",
        "    for i in range(m):\n",
        "        hipotesis = a+b*x[i]\n",
        "        error +=  (y[i] - hipotesis) ** 2\n",
        "    return error / (2*m)"
      ],
      "execution_count": null,
      "outputs": []
    },
    {
      "cell_type": "code",
      "metadata": {
        "id": "J073PMSMIfda"
      },
      "source": [
        "def descenso_gradiente(x, y, a, b, alpha, iters):\n",
        "    m = len(x)\n",
        "    hist_coste = []\n",
        "    archivo = open ('GradienteDescendiente.txt','w')\n",
        "    archivo.write('Estudiante: Julissa Huaman Hilari\\n')\n",
        "    archivo.write('Método: Gradiente Descendiente\\n\\n')\n",
        "    for ep in range(iters):        \n",
        "        archivo.write('Iteración: {}'.format(ep+1)+'\\n')\n",
        "        archivo.write('Intercepto anterior: {0:.6f}'.format(a)+'\\n')\n",
        "        archivo.write('Pendiente anterior: {0:.6f}'.format(b)+'\\n')\n",
        "        archivo.write('Tasa de aprendizaje: {0:.6f}'.format(alpha)+'\\n')\n",
        "        b_deriv = 0\n",
        "        a_deriv = 0\n",
        "        for i in range(m):\n",
        "            hipotesis = a+b*x[i]\n",
        "            a_deriv += 2*(hipotesis - y[i])\n",
        "            b_deriv += (hipotesis - y[i])*(2* x[i])\n",
        "            hist_coste.append(coste(x, y, a, b))\n",
        "        a -= a_deriv * alpha\n",
        "        b -= b_deriv * alpha\n",
        "        archivo.write('Derivada intercepto: {0:.6f}'.format(a_deriv)+'\\n')\n",
        "        archivo.write('Derivada pendiente: {0:.6f}'.format(b_deriv)+'\\n')\n",
        "        archivo.write('Intercepto nuevo: {0:.6f}'.format(a)+'\\n')\n",
        "        archivo.write('Pendiente nueva: {0:.6f}'.format(b)+'\\n\\n')\n",
        "\n",
        "    return a, b, hist_coste"
      ],
      "execution_count": null,
      "outputs": []
    },
    {
      "cell_type": "code",
      "metadata": {
        "id": "ffgp4mkmIinj"
      },
      "source": [
        "a=0\n",
        "b=1\n",
        "alpha = 0.01\n",
        "iters = 1000\n",
        "a,b, hist_coste = descenso_gradiente(x, y, a, b, alpha, iters)\n"
      ],
      "execution_count": null,
      "outputs": []
    },
    {
      "cell_type": "code",
      "metadata": {
        "colab": {
          "base_uri": "https://localhost:8080/",
          "height": 299
        },
        "id": "uN218MsaIqw5",
        "outputId": "a6858f4e-264e-4dfc-ceeb-f2e5a45edc90"
      },
      "source": [
        "\n",
        "plt.scatter(x, y)\n",
        "min_X = min(x)\n",
        "max_X = max(x)\n",
        "pred_x = [min_X, max_X]\n",
        "pred_y = [(b*min_X)+a, (b*max_X)+a]\n",
        "plt.title('1000 Iteraciones')\n",
        "plt.plot(pred_x, pred_y, \"r\")"
      ],
      "execution_count": null,
      "outputs": [
        {
          "output_type": "execute_result",
          "data": {
            "text/plain": [
              "[<matplotlib.lines.Line2D at 0x7f770e5b7510>]"
            ]
          },
          "metadata": {},
          "execution_count": 162
        },
        {
          "output_type": "display_data",
          "data": {
            "image/png": "[encoded data removed]",
            "text/plain": [
              "<Figure size 432x288 with 1 Axes>"
            ]
          },
          "metadata": {
            "needs_background": "light"
          }
        }
      ]
    }
  ]
}